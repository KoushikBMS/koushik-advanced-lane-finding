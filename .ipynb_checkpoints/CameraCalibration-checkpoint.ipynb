{
 "cells": [
  {
   "cell_type": "markdown",
   "id": "66acc8f1",
   "metadata": {},
   "source": [
    "# Import the dependent modules"
   ]
  },
  {
   "cell_type": "code",
   "execution_count": 1,
   "id": "342ce084",
   "metadata": {},
   "outputs": [],
   "source": [
    "import os\n",
    "import cv2\n",
    "import numpy as np\n",
    "import matplotlib.image as mpimg\n",
    "import pickle"
   ]
  },
  {
   "cell_type": "markdown",
   "id": "27852705",
   "metadata": {},
   "source": [
    "# Calibrate Camera"
   ]
  },
  {
   "cell_type": "code",
   "execution_count": 2,
   "id": "234aae47",
   "metadata": {},
   "outputs": [],
   "source": [
    "#Number of corner in row and coulmn of the given Chess board\n",
    "nx = 9\n",
    "ny = 6\n",
    "\n",
    "#Array to store the image points and object points\n",
    "imgpoint = []\n",
    "objpoint = []\n",
    "\n",
    "#variable to store the image shape\n",
    "Shape=(0,0)\n",
    "\n",
    "#folder or directory location of the calibration image and calibration image output\n",
    "CalibrationImageDir = \"camera_cal/\"\n",
    "CalibrationImageOutputDir = \"camera_cal_output/\"\n",
    "\n",
    "#preparing object points using the known corners in the given chess board\n",
    "objP = np.zeros(((nx*ny),3),np.float32)\n",
    "\n",
    "#numpy mgrid function is used to generated the requreed coordinates and reshape the size for 2 columns(x,y)\n",
    "objP[:,:2] = np.mgrid[0:nx,0:ny].T.reshape(-1,2)\n",
    "\n",
    "#read all the file name in the calibration image directory\n",
    "for filename in os.listdir(CalibrationImageDir):\n",
    "    \n",
    "    #load image from the directory\n",
    "    orginal_image = mpimg.imread(CalibrationImageDir+filename)\n",
    "    \n",
    "    # Convert the image to grayscale\n",
    "    gray = cv2.cvtColor(orginal_image, cv2.COLOR_RGB2GRAY)\n",
    "\n",
    "    # Find the chessboard corners\n",
    "    ret, corners = cv2.findChessboardCorners(gray, (nx, ny), None)\n",
    "\n",
    "    #check if any corners has been found the loaded image\n",
    "    if ret == True:\n",
    "        #store the size of first image for calculating the calibration parameters\n",
    "        if(Shape[0] == 0):\n",
    "            Shape = (orginal_image.shape[0],orginal_image.shape[1])\n",
    "        #append the calculated coreners into the Image point array\n",
    "        imgpoint.append(corners)\n",
    "        #since the object points are same for the calibaration images, append the calculated Object points\n",
    "        objpoint.append(objP)\n",
    "        \n",
    "        #draw the found coreners over the chessboard and store in the camera calibration ouput folder\n",
    "        #stored image is only used for reference purpose\n",
    "        result = cv2.drawChessboardCorners(orginal_image,(nx,ny),corners,ret)\n",
    "        mpimg.imsave(CalibrationImageOutputDir+filename,result)\n",
    "        \n",
    "#calibrate the camera using the found image and object points\n",
    "ret, mtx, dist, rvecs, tvecs = cv2.calibrateCamera(objpoint, imgpoint,Shape , None, None)\n",
    "\n",
    "#Store the calculated calibration matrix and distortion coefficients in a Dictionary\n",
    "CameraCalibrationData = {\n",
    "    \"mtx\":mtx,\n",
    "    \"dist\":dist\n",
    "}\n",
    "#Store the cameara calibration values Dictionary into pick file which will be used for Lane line detection\n",
    "pickle.dump(CameraCalibrationData,open(\"CameraCalibrationData.p\",\"wb\"))"
   ]
  },
  {
   "cell_type": "markdown",
   "id": "32eac344",
   "metadata": {},
   "source": [
    "# Undistort the chess board image"
   ]
  },
  {
   "cell_type": "code",
   "execution_count": 3,
   "id": "a14e3c01",
   "metadata": {},
   "outputs": [],
   "source": [
    "Loaded_CameraCalibrationData = pickle.load( open( \"CameraCalibrationData.p\", \"rb\" ))\n",
    "\n",
    "for filename in os.listdir(CalibrationImageDir):\n",
    "    orginal_image = mpimg.imread(CalibrationImageDir+filename)\n",
    "    \n",
    "    undist = cv2.undistort(orginal_image, Loaded_CameraCalibrationData[\"mtx\"],Loaded_CameraCalibrationData[\"dist\"], None, Loaded_CameraCalibrationData[\"mtx\"])\n",
    "    \n",
    "    mpimg.imsave(CalibrationImageOutputDir+\"undistort_\"+filename,undist)"
   ]
  },
  {
   "cell_type": "code",
   "execution_count": null,
   "id": "cf41940f",
   "metadata": {},
   "outputs": [],
   "source": []
  }
 ],
 "metadata": {
  "kernelspec": {
   "display_name": "Python 3",
   "language": "python",
   "name": "python3"
  },
  "language_info": {
   "codemirror_mode": {
    "name": "ipython",
    "version": 3
   },
   "file_extension": ".py",
   "mimetype": "text/x-python",
   "name": "python",
   "nbconvert_exporter": "python",
   "pygments_lexer": "ipython3",
   "version": "3.6.3"
  }
 },
 "nbformat": 4,
 "nbformat_minor": 5
}
